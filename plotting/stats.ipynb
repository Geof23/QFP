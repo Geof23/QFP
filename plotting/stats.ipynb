{
 "cells": [
  {
   "cell_type": "markdown",
   "metadata": {},
   "source": [
    "# Statistics for FLiT Test Results\n",
    "\n",
    "This file is playing around with generating statistics for the FLiT test results.  It also attempts to plot.\n",
    "\n",
    "$$\n",
    " \\int_{-\\infty}^\\infty e^{-x^2 \\sin x} dx\n",
    "$$"
   ]
  },
  {
   "cell_type": "code",
   "execution_count": 1,
   "metadata": {
    "collapsed": true
   },
   "outputs": [],
   "source": [
    "import csv\n",
    "with open('./latest-run.csv', 'r') as infile:\n",
    "    reader = csv.DictReader(infile)\n",
    "    rows = [x for x in reader]"
   ]
  },
  {
   "cell_type": "code",
   "execution_count": 2,
   "metadata": {
    "collapsed": false
   },
   "outputs": [
    {
     "data": {
      "text/plain": [
       "['compiler',\n",
       " 'file',\n",
       " 'host',\n",
       " 'index',\n",
       " 'name',\n",
       " 'precision',\n",
       " 'run',\n",
       " 'score0',\n",
       " 'score0d',\n",
       " 'score1',\n",
       " 'score1d',\n",
       " 'sort',\n",
       " 'switches']"
      ]
     },
     "execution_count": 2,
     "metadata": {},
     "output_type": "execute_result"
    }
   ],
   "source": [
    "sorted(rows[0].keys())"
   ]
  },
  {
   "cell_type": "code",
   "execution_count": 3,
   "metadata": {
    "collapsed": true
   },
   "outputs": [],
   "source": [
    "names = set(x['name'] for x in rows)\n",
    "switches = set(x['switches'] for x in rows)\n",
    "compilers = set(x['compiler'] for x in rows)\n",
    "precisions = set(x['precision'] for x in rows)\n",
    "sorts = set(x['sort'] for x in rows)"
   ]
  },
  {
   "cell_type": "code",
   "execution_count": 4,
   "metadata": {
    "collapsed": false
   },
   "outputs": [
    {
     "data": {
      "text/plain": [
       "{'DoHariGSBasic',\n",
       " 'DoHariGSImproved',\n",
       " 'DoMatrixMultSanity',\n",
       " 'DoOrthoPerturbTest',\n",
       " 'DoSimpleRotate90',\n",
       " 'DoSkewSymCPRotationTest',\n",
       " 'RotateAndUnrotate',\n",
       " 'RotateFullCircle',\n",
       " 'TrianglePHeron',\n",
       " 'TrianglePSylv'}"
      ]
     },
     "execution_count": 4,
     "metadata": {},
     "output_type": "execute_result"
    }
   ],
   "source": [
    "names"
   ]
  },
  {
   "cell_type": "code",
   "execution_count": 5,
   "metadata": {
    "collapsed": false
   },
   "outputs": [
    {
     "data": {
      "text/plain": [
       "{'',\n",
       " '-O0',\n",
       " '-O1',\n",
       " '-O2',\n",
       " '-O3',\n",
       " '-fassociative-math ',\n",
       " '-fcx-fortran-rules ',\n",
       " '-fcx-limited-range ',\n",
       " '-fexcess-precision=fast ',\n",
       " '-fexcess-precision=standard',\n",
       " '-ffast-math',\n",
       " '-ffinite-math-only',\n",
       " '-ffloat-store ',\n",
       " '-ffp-contract=on ',\n",
       " '-fma ',\n",
       " '-fmerge-all-constants ',\n",
       " '-fno-trapping-math ',\n",
       " '-fp-model fast=1',\n",
       " '-fp-model fast=2',\n",
       " '-fp-model=double',\n",
       " '-fp-model=extended',\n",
       " '-fp-model=precise',\n",
       " '-fp-model=source',\n",
       " '-fp-model=strict',\n",
       " '-fp-port ',\n",
       " '-fp-trap=common',\n",
       " '-freciprocal-math ',\n",
       " '-frounding-math ',\n",
       " '-fsignaling-nans ',\n",
       " '-fsingle-precision-constant',\n",
       " '-ftz ',\n",
       " '-funsafe-math-optimizations',\n",
       " '-mavx',\n",
       " '-mfpmath=sse -mtune=native',\n",
       " '-mp1 ',\n",
       " '-no-fma',\n",
       " '-no-ftz',\n",
       " '-no-prec-div',\n",
       " '-prec-div '}"
      ]
     },
     "execution_count": 5,
     "metadata": {},
     "output_type": "execute_result"
    }
   ],
   "source": [
    "switches"
   ]
  },
  {
   "cell_type": "code",
   "execution_count": 6,
   "metadata": {
    "collapsed": false
   },
   "outputs": [
    {
     "data": {
      "text/plain": [
       "{' clang++-3.6', 'g++', 'icpc -mlong-double-80'}"
      ]
     },
     "execution_count": 6,
     "metadata": {},
     "output_type": "execute_result"
    }
   ],
   "source": [
    "compilers"
   ]
  },
  {
   "cell_type": "code",
   "execution_count": 7,
   "metadata": {
    "collapsed": false
   },
   "outputs": [
    {
     "data": {
      "text/plain": [
       "{'d', 'e', 'f'}"
      ]
     },
     "execution_count": 7,
     "metadata": {},
     "output_type": "execute_result"
    }
   ],
   "source": [
    "precisions"
   ]
  },
  {
   "cell_type": "code",
   "execution_count": 8,
   "metadata": {
    "collapsed": false
   },
   "outputs": [
    {
     "data": {
      "text/plain": [
       "{'bi', 'gt', 'lt', 'us'}"
      ]
     },
     "execution_count": 8,
     "metadata": {},
     "output_type": "execute_result"
    }
   ],
   "source": [
    "sorts"
   ]
  },
  {
   "cell_type": "code",
   "execution_count": 9,
   "metadata": {
    "collapsed": true
   },
   "outputs": [],
   "source": [
    "def stats_by_compiler(rows, compiler):\n",
    "    '''\n",
    "    Returns a dictionary of { switch -> # tests } where switch is the set\n",
    "    of switches specified in the row and the tests are compared against\n",
    "    the row with no switches.  This is done keeping everything else\n",
    "    constant including 'host', 'precision' and 'sort'.\n",
    "\n",
    "    The maximum count is the number of tests tested for that compiler\n",
    "    which is the 'name' column, so the number of unique 'name' elements\n",
    "    in the rows.\n",
    "    '''\n",
    "    names = set(x['name'] for x in rows)\n",
    "    switches = set(x['switches'] for x in rows)\n",
    "    compiler_rows = [x for x in rows if x['compiler'] == compiler]\n",
    "    switch_counts = {}\n",
    "    switch_totals = {}\n",
    "    for switch in switches:\n",
    "        switch_counts[switch] = 0\n",
    "        switch_totals[switch] = sum(\n",
    "            1 for x in compiler_rows if x['switches'] == switch)\n",
    "    groups = {}\n",
    "    for name in names:\n",
    "        groups[name] = [x for x in compiler_rows if x['name'] == name]\n",
    "    for name in names:\n",
    "        base_rows = [x for x in groups[name] if x['switches'] == '']\n",
    "        for switch in switches:\n",
    "            switch_rows = [x for x in groups[name]\n",
    "                           if x['switches'] == switch]\n",
    "            for switch_row in switch_rows:\n",
    "                base_matches = [x for x in base_rows\n",
    "                                if x['host'] == switch_row['host']\n",
    "                                and x['precision'] == switch_row['precision']\n",
    "                                and x['sort'] == switch_row['sort']\n",
    "                               ]\n",
    "                assert len(base_matches) == 1, len(base_matches)\n",
    "                match = base_matches[0]\n",
    "                if switch_row['score0'] != match['score0']:\n",
    "                    switch_counts[switch] += 1\n",
    "                    break\n",
    "    return switch_counts"
   ]
  },
  {
   "cell_type": "code",
   "execution_count": 10,
   "metadata": {
    "collapsed": false
   },
   "outputs": [
    {
     "data": {
      "text/plain": [
       "{'': 0,\n",
       " '-O0': 0,\n",
       " '-O1': 0,\n",
       " '-O2': 0,\n",
       " '-O3': 0,\n",
       " '-fassociative-math ': 0,\n",
       " '-fcx-fortran-rules ': 0,\n",
       " '-fcx-limited-range ': 0,\n",
       " '-fexcess-precision=fast ': 0,\n",
       " '-fexcess-precision=standard': 0,\n",
       " '-ffast-math': 0,\n",
       " '-ffinite-math-only': 0,\n",
       " '-ffloat-store ': 0,\n",
       " '-ffp-contract=on ': 0,\n",
       " '-fma ': 0,\n",
       " '-fmerge-all-constants ': 0,\n",
       " '-fno-trapping-math ': 0,\n",
       " '-fp-model fast=1': 0,\n",
       " '-fp-model fast=2': 0,\n",
       " '-fp-model=double': 0,\n",
       " '-fp-model=extended': 0,\n",
       " '-fp-model=precise': 0,\n",
       " '-fp-model=source': 0,\n",
       " '-fp-model=strict': 0,\n",
       " '-fp-port ': 0,\n",
       " '-fp-trap=common': 0,\n",
       " '-freciprocal-math ': 0,\n",
       " '-frounding-math ': 0,\n",
       " '-fsignaling-nans ': 0,\n",
       " '-fsingle-precision-constant': 0,\n",
       " '-ftz ': 0,\n",
       " '-funsafe-math-optimizations': 0,\n",
       " '-mavx': 0,\n",
       " '-mfpmath=sse -mtune=native': 0,\n",
       " '-mp1 ': 0,\n",
       " '-no-fma': 0,\n",
       " '-no-ftz': 0,\n",
       " '-no-prec-div': 0,\n",
       " '-prec-div ': 0}"
      ]
     },
     "execution_count": 10,
     "metadata": {},
     "output_type": "execute_result"
    }
   ],
   "source": [
    "stats_by_compiler(rows, 'g++')"
   ]
  },
  {
   "cell_type": "code",
   "execution_count": 11,
   "metadata": {
    "collapsed": false
   },
   "outputs": [
    {
     "data": {
      "text/plain": [
       "{'': 0,\n",
       " '-O0': 0,\n",
       " '-O1': 0,\n",
       " '-O2': 0,\n",
       " '-O3': 0,\n",
       " '-fassociative-math ': 0,\n",
       " '-fcx-fortran-rules ': 0,\n",
       " '-fcx-limited-range ': 0,\n",
       " '-fexcess-precision=fast ': 0,\n",
       " '-fexcess-precision=standard': 0,\n",
       " '-ffast-math': 0,\n",
       " '-ffinite-math-only': 0,\n",
       " '-ffloat-store ': 0,\n",
       " '-ffp-contract=on ': 0,\n",
       " '-fma ': 0,\n",
       " '-fmerge-all-constants ': 0,\n",
       " '-fno-trapping-math ': 0,\n",
       " '-fp-model fast=1': 0,\n",
       " '-fp-model fast=2': 0,\n",
       " '-fp-model=double': 0,\n",
       " '-fp-model=extended': 0,\n",
       " '-fp-model=precise': 0,\n",
       " '-fp-model=source': 0,\n",
       " '-fp-model=strict': 0,\n",
       " '-fp-port ': 0,\n",
       " '-fp-trap=common': 0,\n",
       " '-freciprocal-math ': 0,\n",
       " '-frounding-math ': 0,\n",
       " '-fsignaling-nans ': 0,\n",
       " '-fsingle-precision-constant': 0,\n",
       " '-ftz ': 0,\n",
       " '-funsafe-math-optimizations': 0,\n",
       " '-mavx': 0,\n",
       " '-mfpmath=sse -mtune=native': 0,\n",
       " '-mp1 ': 0,\n",
       " '-no-fma': 0,\n",
       " '-no-ftz': 0,\n",
       " '-no-prec-div': 0,\n",
       " '-prec-div ': 0}"
      ]
     },
     "execution_count": 11,
     "metadata": {},
     "output_type": "execute_result"
    }
   ],
   "source": [
    "stats_by_compiler(rows, ' clang++-3.6')"
   ]
  },
  {
   "cell_type": "code",
   "execution_count": 15,
   "metadata": {
    "collapsed": true
   },
   "outputs": [
    {
     "data": {
      "text/plain": [
       "{'': 0,\n",
       " '-O0': 3,\n",
       " '-O1': 2,\n",
       " '-O2': 0,\n",
       " '-O3': 0,\n",
       " '-fassociative-math ': 0,\n",
       " '-fcx-fortran-rules ': 0,\n",
       " '-fcx-limited-range ': 0,\n",
       " '-fexcess-precision=fast ': 0,\n",
       " '-fexcess-precision=standard': 0,\n",
       " '-ffast-math': 0,\n",
       " '-ffinite-math-only': 0,\n",
       " '-ffloat-store ': 0,\n",
       " '-ffp-contract=on ': 0,\n",
       " '-fma ': 0,\n",
       " '-fmerge-all-constants ': 0,\n",
       " '-fno-trapping-math ': 0,\n",
       " '-fp-model fast=1': 0,\n",
       " '-fp-model fast=2': 0,\n",
       " '-fp-model=double': 5,\n",
       " '-fp-model=extended': 6,\n",
       " '-fp-model=precise': 3,\n",
       " '-fp-model=source': 3,\n",
       " '-fp-model=strict': 3,\n",
       " '-fp-port ': 0,\n",
       " '-fp-trap=common': 0,\n",
       " '-freciprocal-math ': 0,\n",
       " '-frounding-math ': 3,\n",
       " '-fsignaling-nans ': 0,\n",
       " '-fsingle-precision-constant': 0,\n",
       " '-ftz ': 0,\n",
       " '-funsafe-math-optimizations': 0,\n",
       " '-mavx': 1,\n",
       " '-mfpmath=sse -mtune=native': 0,\n",
       " '-mp1 ': 0,\n",
       " '-no-fma': 0,\n",
       " '-no-ftz': 0,\n",
       " '-no-prec-div': 2,\n",
       " '-prec-div ': 0}"
      ]
     },
     "execution_count": 15,
     "metadata": {},
     "output_type": "execute_result"
    }
   ],
   "source": [
    "icpc_stats = stats_by_compiler(rows, 'icpc -mlong-double-80')\n",
    "icpc_stats"
   ]
  },
  {
   "cell_type": "code",
   "execution_count": 17,
   "metadata": {
    "collapsed": true
   },
   "outputs": [],
   "source": [
    "%matplotlib inline\n",
    "from matplotlib import pyplot as plt\n",
    "import numpy as np"
   ]
  },
  {
   "cell_type": "code",
   "execution_count": 30,
   "metadata": {
    "collapsed": false,
    "scrolled": false
   },
   "outputs": [
    {
     "data": {
      "image/png": "[encoded data removed]",
      "text/plain": [
       "<matplotlib.figure.Figure at 0x7fb29d8657f0>"
      ]
     },
     "metadata": {},
     "output_type": "display_data"
    }
   ],
   "source": [
    "items = sorted([x for x in icpc_stats.items() if x[1] > 0],\n",
    "               key=lambda x: x[1], reverse=True)\n",
    "ind = np.arange(len(items))  # x-location of each of the groups\n",
    "width = 1                    # Width of the bars\n",
    "\n",
    "fig, ax = plt.subplots()\n",
    "ax.bar(ind, [x[1] for x in items], width, color='r')\n",
    "ax.set_ylabel('# differing tests')\n",
    "ax.set_title('Floating Point Differences By Compiler Flag for the Intel Compiler')\n",
    "ax.set_xticks(ind + width/2)\n",
    "ax.set_xticklabels([x[0] for x in items], rotation=-45, ha='left')\n",
    "\n",
    "\n",
    "plt.show()"
   ]
  },
  {
   "cell_type": "code",
   "execution_count": 31,
   "metadata": {
    "collapsed": false
   },
   "outputs": [
    {
     "data": {
      "text/plain": [
       "[('-fp-model=extended', 6),\n",
       " ('-fp-model=double', 5),\n",
       " ('-fp-model=source', 3),\n",
       " ('-fp-model=strict', 3),\n",
       " ('-frounding-math ', 3),\n",
       " ('-O0', 3),\n",
       " ('-fp-model=precise', 3),\n",
       " ('-no-prec-div', 2),\n",
       " ('-O1', 2),\n",
       " ('-mavx', 1)]"
      ]
     },
     "execution_count": 31,
     "metadata": {},
     "output_type": "execute_result"
    }
   ],
   "source": [
    "items"
   ]
  }
 ],
 "metadata": {
  "kernelspec": {
   "display_name": "Python 3",
   "language": "python",
   "name": "python3"
  },
  "language_info": {
   "codemirror_mode": {
    "name": "ipython",
    "version": 3
   },
   "file_extension": ".py",
   "mimetype": "text/x-python",
   "name": "python",
   "nbconvert_exporter": "python",
   "pygments_lexer": "ipython3",
   "version": "3.4.3+"
  }
 },
 "nbformat": 4,
 "nbformat_minor": 0
}
